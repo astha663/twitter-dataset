{
 "cells": [
  {
   "cell_type": "code",
   "execution_count": 313,
   "metadata": {},
   "outputs": [],
   "source": [
    "%matplotlib inline"
   ]
  },
  {
   "cell_type": "code",
   "execution_count": 314,
   "metadata": {},
   "outputs": [],
   "source": [
    "import pandas as pd\n",
    "import numpy as np\n",
    "import seaborn as sns\n",
    "import matplotlib.pyplot as plt\n",
    "import re\n",
    "\n",
    "import nltk\n",
    "from nltk.corpus import stopwords\n",
    "from nltk.probability import FreqDist\n",
    "from nltk.stem import WordNetLemmatizer, PorterStemmer\n",
    "from wordcloud import WordCloud,STOPWORDS\n",
    "from textblob import TextBlob\n",
    "\n",
    "import sklearn.model_selection as model\n",
    "from sklearn.naive_bayes import MultinomialNB\n",
    "from sklearn.feature_extraction.text import CountVectorizer,TfidfVectorizer\n",
    "#used TfidfVectorizer over CV because the regression analysis didn't converge in the latter.\n",
    "\n",
    "from sklearn.preprocessing import LabelEncoder\n",
    "from sklearn.model_selection import train_test_split\n",
    "from sklearn.linear_model import LogisticRegression\n",
    "from sklearn.ensemble import RandomForestClassifier\n",
    "\n",
    "from sklearn.metrics import accuracy_score,confusion_matrix\n",
    "from sklearn.metrics import classification_report\n",
    "\n",
    "sns.set_palette(\"YlGnBu\")\n",
    "sns.set(rc={'figure.figsize':(12,9)})"
   ]
  },
  {
   "cell_type": "markdown",
   "metadata": {},
   "source": [
    "## Importing data\n"
   ]
  },
  {
   "cell_type": "code",
   "execution_count": 315,
   "metadata": {},
   "outputs": [],
   "source": [
    "required_df = pd.read_csv(\"Information.csv\", engine = 'python')"
   ]
  },
  {
   "cell_type": "code",
   "execution_count": 316,
   "metadata": {},
   "outputs": [
    {
     "data": {
      "text/html": [
       "<div>\n",
       "<style scoped>\n",
       "    .dataframe tbody tr th:only-of-type {\n",
       "        vertical-align: middle;\n",
       "    }\n",
       "\n",
       "    .dataframe tbody tr th {\n",
       "        vertical-align: top;\n",
       "    }\n",
       "\n",
       "    .dataframe thead th {\n",
       "        text-align: right;\n",
       "    }\n",
       "</style>\n",
       "<table border=\"1\" class=\"dataframe\">\n",
       "  <thead>\n",
       "    <tr style=\"text-align: right;\">\n",
       "      <th></th>\n",
       "      <th>_unit_id</th>\n",
       "      <th>_golden</th>\n",
       "      <th>_unit_state</th>\n",
       "      <th>_trusted_judgments</th>\n",
       "      <th>_last_judgment_at</th>\n",
       "      <th>gender</th>\n",
       "      <th>gender:confidence</th>\n",
       "      <th>profile_yn</th>\n",
       "      <th>profile_yn:confidence</th>\n",
       "      <th>created</th>\n",
       "      <th>...</th>\n",
       "      <th>profileimage</th>\n",
       "      <th>retweet_count</th>\n",
       "      <th>sidebar_color</th>\n",
       "      <th>text</th>\n",
       "      <th>tweet_coord</th>\n",
       "      <th>tweet_count</th>\n",
       "      <th>tweet_created</th>\n",
       "      <th>tweet_id</th>\n",
       "      <th>tweet_location</th>\n",
       "      <th>user_timezone</th>\n",
       "    </tr>\n",
       "  </thead>\n",
       "  <tbody>\n",
       "    <tr>\n",
       "      <td>0</td>\n",
       "      <td>815719226</td>\n",
       "      <td>False</td>\n",
       "      <td>finalized</td>\n",
       "      <td>3</td>\n",
       "      <td>10/26/15 23:24</td>\n",
       "      <td>male</td>\n",
       "      <td>1.0000</td>\n",
       "      <td>yes</td>\n",
       "      <td>1.0</td>\n",
       "      <td>12/5/13 1:48</td>\n",
       "      <td>...</td>\n",
       "      <td>https://pbs.twimg.com/profile_images/414342229...</td>\n",
       "      <td>0</td>\n",
       "      <td>FFFFFF</td>\n",
       "      <td>Robbie E Responds To Critics After Win Against...</td>\n",
       "      <td>NaN</td>\n",
       "      <td>110964</td>\n",
       "      <td>10/26/15 12:40</td>\n",
       "      <td>6.587300e+17</td>\n",
       "      <td>main; @Kan1shk3</td>\n",
       "      <td>Chennai</td>\n",
       "    </tr>\n",
       "    <tr>\n",
       "      <td>1</td>\n",
       "      <td>815719227</td>\n",
       "      <td>False</td>\n",
       "      <td>finalized</td>\n",
       "      <td>3</td>\n",
       "      <td>10/26/15 23:30</td>\n",
       "      <td>male</td>\n",
       "      <td>1.0000</td>\n",
       "      <td>yes</td>\n",
       "      <td>1.0</td>\n",
       "      <td>10/1/12 13:51</td>\n",
       "      <td>...</td>\n",
       "      <td>https://pbs.twimg.com/profile_images/539604221...</td>\n",
       "      <td>0</td>\n",
       "      <td>C0DEED</td>\n",
       "      <td>‰ÛÏIt felt like they were my friends and I was...</td>\n",
       "      <td>NaN</td>\n",
       "      <td>7471</td>\n",
       "      <td>10/26/15 12:40</td>\n",
       "      <td>6.587300e+17</td>\n",
       "      <td>NaN</td>\n",
       "      <td>Eastern Time (US &amp; Canada)</td>\n",
       "    </tr>\n",
       "    <tr>\n",
       "      <td>2</td>\n",
       "      <td>815719228</td>\n",
       "      <td>False</td>\n",
       "      <td>finalized</td>\n",
       "      <td>3</td>\n",
       "      <td>10/26/15 23:33</td>\n",
       "      <td>male</td>\n",
       "      <td>0.6625</td>\n",
       "      <td>yes</td>\n",
       "      <td>1.0</td>\n",
       "      <td>11/28/14 11:30</td>\n",
       "      <td>...</td>\n",
       "      <td>https://pbs.twimg.com/profile_images/657330418...</td>\n",
       "      <td>1</td>\n",
       "      <td>C0DEED</td>\n",
       "      <td>i absolutely adore when louis starts the songs...</td>\n",
       "      <td>NaN</td>\n",
       "      <td>5617</td>\n",
       "      <td>10/26/15 12:40</td>\n",
       "      <td>6.587300e+17</td>\n",
       "      <td>clcncl</td>\n",
       "      <td>Belgrade</td>\n",
       "    </tr>\n",
       "    <tr>\n",
       "      <td>3</td>\n",
       "      <td>815719229</td>\n",
       "      <td>False</td>\n",
       "      <td>finalized</td>\n",
       "      <td>3</td>\n",
       "      <td>10/26/15 23:10</td>\n",
       "      <td>male</td>\n",
       "      <td>1.0000</td>\n",
       "      <td>yes</td>\n",
       "      <td>1.0</td>\n",
       "      <td>6/11/09 22:39</td>\n",
       "      <td>...</td>\n",
       "      <td>https://pbs.twimg.com/profile_images/259703936...</td>\n",
       "      <td>0</td>\n",
       "      <td>C0DEED</td>\n",
       "      <td>Hi @JordanSpieth - Looking at the url - do you...</td>\n",
       "      <td>NaN</td>\n",
       "      <td>1693</td>\n",
       "      <td>10/26/15 12:40</td>\n",
       "      <td>6.587300e+17</td>\n",
       "      <td>Palo Alto, CA</td>\n",
       "      <td>Pacific Time (US &amp; Canada)</td>\n",
       "    </tr>\n",
       "    <tr>\n",
       "      <td>4</td>\n",
       "      <td>815719230</td>\n",
       "      <td>False</td>\n",
       "      <td>finalized</td>\n",
       "      <td>3</td>\n",
       "      <td>10/27/15 1:15</td>\n",
       "      <td>female</td>\n",
       "      <td>1.0000</td>\n",
       "      <td>yes</td>\n",
       "      <td>1.0</td>\n",
       "      <td>4/16/14 13:23</td>\n",
       "      <td>...</td>\n",
       "      <td>https://pbs.twimg.com/profile_images/564094871...</td>\n",
       "      <td>0</td>\n",
       "      <td>0</td>\n",
       "      <td>Watching Neighbours on Sky+ catching up with t...</td>\n",
       "      <td>NaN</td>\n",
       "      <td>31462</td>\n",
       "      <td>10/26/15 12:40</td>\n",
       "      <td>6.587300e+17</td>\n",
       "      <td>NaN</td>\n",
       "      <td>NaN</td>\n",
       "    </tr>\n",
       "  </tbody>\n",
       "</table>\n",
       "<p>5 rows × 26 columns</p>\n",
       "</div>"
      ],
      "text/plain": [
       "    _unit_id  _golden _unit_state  _trusted_judgments _last_judgment_at  \\\n",
       "0  815719226    False   finalized                   3    10/26/15 23:24   \n",
       "1  815719227    False   finalized                   3    10/26/15 23:30   \n",
       "2  815719228    False   finalized                   3    10/26/15 23:33   \n",
       "3  815719229    False   finalized                   3    10/26/15 23:10   \n",
       "4  815719230    False   finalized                   3     10/27/15 1:15   \n",
       "\n",
       "   gender  gender:confidence profile_yn  profile_yn:confidence  \\\n",
       "0    male             1.0000        yes                    1.0   \n",
       "1    male             1.0000        yes                    1.0   \n",
       "2    male             0.6625        yes                    1.0   \n",
       "3    male             1.0000        yes                    1.0   \n",
       "4  female             1.0000        yes                    1.0   \n",
       "\n",
       "          created  ...                                       profileimage  \\\n",
       "0    12/5/13 1:48  ...  https://pbs.twimg.com/profile_images/414342229...   \n",
       "1   10/1/12 13:51  ...  https://pbs.twimg.com/profile_images/539604221...   \n",
       "2  11/28/14 11:30  ...  https://pbs.twimg.com/profile_images/657330418...   \n",
       "3   6/11/09 22:39  ...  https://pbs.twimg.com/profile_images/259703936...   \n",
       "4   4/16/14 13:23  ...  https://pbs.twimg.com/profile_images/564094871...   \n",
       "\n",
       "   retweet_count sidebar_color  \\\n",
       "0              0        FFFFFF   \n",
       "1              0        C0DEED   \n",
       "2              1        C0DEED   \n",
       "3              0        C0DEED   \n",
       "4              0             0   \n",
       "\n",
       "                                                text tweet_coord tweet_count  \\\n",
       "0  Robbie E Responds To Critics After Win Against...         NaN      110964   \n",
       "1  ‰ÛÏIt felt like they were my friends and I was...         NaN        7471   \n",
       "2  i absolutely adore when louis starts the songs...         NaN        5617   \n",
       "3  Hi @JordanSpieth - Looking at the url - do you...         NaN        1693   \n",
       "4  Watching Neighbours on Sky+ catching up with t...         NaN       31462   \n",
       "\n",
       "    tweet_created      tweet_id   tweet_location               user_timezone  \n",
       "0  10/26/15 12:40  6.587300e+17  main; @Kan1shk3                     Chennai  \n",
       "1  10/26/15 12:40  6.587300e+17              NaN  Eastern Time (US & Canada)  \n",
       "2  10/26/15 12:40  6.587300e+17           clcncl                    Belgrade  \n",
       "3  10/26/15 12:40  6.587300e+17    Palo Alto, CA  Pacific Time (US & Canada)  \n",
       "4  10/26/15 12:40  6.587300e+17              NaN                         NaN  \n",
       "\n",
       "[5 rows x 26 columns]"
      ]
     },
     "execution_count": 316,
     "metadata": {},
     "output_type": "execute_result"
    }
   ],
   "source": [
    "required_df.head()"
   ]
  },
  {
   "cell_type": "code",
   "execution_count": 317,
   "metadata": {},
   "outputs": [
    {
     "data": {
      "text/plain": [
       "(20050, 26)"
      ]
     },
     "execution_count": 317,
     "metadata": {},
     "output_type": "execute_result"
    }
   ],
   "source": [
    "required_df.shape"
   ]
  },
  {
   "cell_type": "code",
   "execution_count": 318,
   "metadata": {},
   "outputs": [
    {
     "data": {
      "text/plain": [
       "Index(['_unit_id', '_golden', '_unit_state', '_trusted_judgments',\n",
       "       '_last_judgment_at', 'gender', 'gender:confidence', 'profile_yn',\n",
       "       'profile_yn:confidence', 'created', 'description', 'fav_number',\n",
       "       'gender_gold', 'link_color', 'name', 'profile_yn_gold', 'profileimage',\n",
       "       'retweet_count', 'sidebar_color', 'text', 'tweet_coord', 'tweet_count',\n",
       "       'tweet_created', 'tweet_id', 'tweet_location', 'user_timezone'],\n",
       "      dtype='object')"
      ]
     },
     "execution_count": 318,
     "metadata": {},
     "output_type": "execute_result"
    }
   ],
   "source": [
    "required_df.columns"
   ]
  },
  {
   "cell_type": "markdown",
   "metadata": {},
   "source": [
    "<p> <b> Formating Column Names </b> </p>"
   ]
  },
  {
   "cell_type": "code",
   "execution_count": 319,
   "metadata": {},
   "outputs": [
    {
     "data": {
      "text/plain": [
       "Index([' unit id', ' golden', ' unit state', ' trusted judgments',\n",
       "       ' last judgment at', 'gender', 'gender:confidence', 'profile yn',\n",
       "       'profile yn:confidence', 'created', 'description', 'fav number',\n",
       "       'gender gold', 'link color', 'name', 'profile yn gold', 'profileimage',\n",
       "       'retweet count', 'sidebar color', 'text', 'tweet coord', 'tweet count',\n",
       "       'tweet created', 'tweet id', 'tweet location', 'user timezone'],\n",
       "      dtype='object')"
      ]
     },
     "execution_count": 319,
     "metadata": {},
     "output_type": "execute_result"
    }
   ],
   "source": [
    "required_df.columns = required_df.columns.str.strip().str.replace('_', ' ')\n",
    "required_df.columns"
   ]
  },
  {
   "cell_type": "code",
   "execution_count": 320,
   "metadata": {},
   "outputs": [
    {
     "data": {
      "text/plain": [
       "Index(['unit_id', 'golden', 'unit_state', 'trusted_judgments',\n",
       "       'last_judgment_at', 'gender', 'gender:confidence', 'profile_yn',\n",
       "       'profile_yn:confidence', 'created', 'description', 'fav_number',\n",
       "       'gender_gold', 'link_color', 'name', 'profile_yn_gold', 'profileimage',\n",
       "       'retweet_count', 'sidebar_color', 'text', 'tweet_coord', 'tweet_count',\n",
       "       'tweet_created', 'tweet_id', 'tweet_location', 'user_timezone'],\n",
       "      dtype='object')"
      ]
     },
     "execution_count": 320,
     "metadata": {},
     "output_type": "execute_result"
    }
   ],
   "source": [
    "required_df.columns = required_df.columns.str.strip().str.replace(' ', '_')\n",
    "required_df.columns"
   ]
  },
  {
   "cell_type": "markdown",
   "metadata": {},
   "source": [
    "### Understanding the different values in certain columns "
   ]
  },
  {
   "cell_type": "code",
   "execution_count": 321,
   "metadata": {},
   "outputs": [
    {
     "name": "stdout",
     "output_type": "stream",
     "text": [
      "{'golden': array([False,  True]), 'unit_state': array(['finalized', 'golden'], dtype=object), 'gender': array(['male', 'female', 'brand', 'unknown', nan], dtype=object), 'profile_yn': array(['yes', 'no'], dtype=object), 'gender_gold': array([nan, 'male', 'brand', 'female', 'female\\nunknown', 'male\\nunknown',\n",
      "       'unknown'], dtype=object), 'profile_yn_gold': array([nan, 'yes'], dtype=object), 'trusted_judgments': array([  3, 249, 271, 245, 261, 247, 242, 256, 262, 259, 264, 258, 260,\n",
      "       228, 233, 255, 235, 254, 231, 274, 246, 273, 239, 270, 237, 227,\n",
      "       253, 252, 212, 240, 248, 250], dtype=int64)}\n"
     ]
    }
   ],
   "source": [
    "columns = ['golden','unit_state','gender','profile_yn','gender_gold','profile_yn_gold','trusted_judgments']\n",
    "\n",
    "unique_values = {}\n",
    "for x in columns:\n",
    "    unique_values[x] = required_df[x].unique()\n",
    "\n",
    "print(unique_values)\n"
   ]
  },
  {
   "cell_type": "markdown",
   "metadata": {},
   "source": [
    "## We can observe nans in this dataset. These observations will be dropped."
   ]
  },
  {
   "cell_type": "code",
   "execution_count": 322,
   "metadata": {},
   "outputs": [
    {
     "name": "stdout",
     "output_type": "stream",
     "text": [
      "<class 'pandas.core.frame.DataFrame'>\n",
      "RangeIndex: 20050 entries, 0 to 20049\n",
      "Data columns (total 26 columns):\n",
      "unit_id                  20050 non-null int64\n",
      "golden                   20050 non-null bool\n",
      "unit_state               20050 non-null object\n",
      "trusted_judgments        20050 non-null int64\n",
      "last_judgment_at         20000 non-null object\n",
      "gender                   19953 non-null object\n",
      "gender:confidence        20024 non-null float64\n",
      "profile_yn               20050 non-null object\n",
      "profile_yn:confidence    20050 non-null float64\n",
      "created                  20050 non-null object\n",
      "description              16306 non-null object\n",
      "fav_number               20050 non-null int64\n",
      "gender_gold              50 non-null object\n",
      "link_color               20050 non-null object\n",
      "name                     20050 non-null object\n",
      "profile_yn_gold          50 non-null object\n",
      "profileimage             20050 non-null object\n",
      "retweet_count            20050 non-null int64\n",
      "sidebar_color            20050 non-null object\n",
      "text                     20050 non-null object\n",
      "tweet_coord              159 non-null object\n",
      "tweet_count              20050 non-null int64\n",
      "tweet_created            20050 non-null object\n",
      "tweet_id                 20050 non-null float64\n",
      "tweet_location           12566 non-null object\n",
      "user_timezone            12252 non-null object\n",
      "dtypes: bool(1), float64(3), int64(5), object(17)\n",
      "memory usage: 3.8+ MB\n"
     ]
    }
   ],
   "source": [
    "required_df.info()"
   ]
  },
  {
   "cell_type": "markdown",
   "metadata": {},
   "source": [
    "#### Columns containing null values are gender, gender:confidence, description, gender_gold, profile_yn_gold, tweet_coord, tweet_location, user_timezone"
   ]
  },
  {
   "cell_type": "code",
   "execution_count": 323,
   "metadata": {},
   "outputs": [
    {
     "data": {
      "text/plain": [
       "unit_id                      0\n",
       "golden                       0\n",
       "unit_state                   0\n",
       "trusted_judgments            0\n",
       "last_judgment_at            50\n",
       "gender                      97\n",
       "gender:confidence           26\n",
       "profile_yn                   0\n",
       "profile_yn:confidence        0\n",
       "created                      0\n",
       "description               3744\n",
       "fav_number                   0\n",
       "gender_gold              20000\n",
       "link_color                   0\n",
       "name                         0\n",
       "profile_yn_gold          20000\n",
       "profileimage                 0\n",
       "retweet_count                0\n",
       "sidebar_color                0\n",
       "text                         0\n",
       "tweet_coord              19891\n",
       "tweet_count                  0\n",
       "tweet_created                0\n",
       "tweet_id                     0\n",
       "tweet_location            7484\n",
       "user_timezone             7798\n",
       "dtype: int64"
      ]
     },
     "execution_count": 323,
     "metadata": {},
     "output_type": "execute_result"
    }
   ],
   "source": [
    "required_df.isnull().sum()"
   ]
  },
  {
   "cell_type": "markdown",
   "metadata": {},
   "source": [
    "### Dropping columns that we will not be using "
   ]
  },
  {
   "cell_type": "code",
   "execution_count": 324,
   "metadata": {},
   "outputs": [
    {
     "data": {
      "text/plain": [
       "unit_id                 0\n",
       "golden                  0\n",
       "gender                 97\n",
       "gender:confidence      26\n",
       "created                 0\n",
       "description          3744\n",
       "fav_number              0\n",
       "link_color              0\n",
       "name                    0\n",
       "retweet_count           0\n",
       "sidebar_color           0\n",
       "text                    0\n",
       "tweet_count             0\n",
       "dtype: int64"
      ]
     },
     "execution_count": 324,
     "metadata": {},
     "output_type": "execute_result"
    }
   ],
   "source": [
    "required_df = required_df.drop(columns = ['gender_gold','profile_yn_gold','tweet_coord','user_timezone','last_judgment_at','unit_state','profile_yn','profile_yn:confidence','trusted_judgments','profileimage','tweet_location','tweet_created','tweet_id'])\n",
    "required_df.isnull().sum()\n",
    "\n"
   ]
  },
  {
   "cell_type": "markdown",
   "metadata": {},
   "source": [
    "### Dropping null values "
   ]
  },
  {
   "cell_type": "code",
   "execution_count": 325,
   "metadata": {},
   "outputs": [
    {
     "data": {
      "text/plain": [
       "(16224, 13)"
      ]
     },
     "execution_count": 325,
     "metadata": {},
     "output_type": "execute_result"
    }
   ],
   "source": [
    "required_df.dropna(inplace = True)\n",
    "required_df.shape"
   ]
  },
  {
   "cell_type": "code",
   "execution_count": 326,
   "metadata": {},
   "outputs": [
    {
     "name": "stdout",
     "output_type": "stream",
     "text": [
      "<class 'pandas.core.frame.DataFrame'>\n",
      "Int64Index: 16224 entries, 0 to 20049\n",
      "Data columns (total 13 columns):\n",
      "unit_id              16224 non-null int64\n",
      "golden               16224 non-null bool\n",
      "gender               16224 non-null object\n",
      "gender:confidence    16224 non-null float64\n",
      "created              16224 non-null object\n",
      "description          16224 non-null object\n",
      "fav_number           16224 non-null int64\n",
      "link_color           16224 non-null object\n",
      "name                 16224 non-null object\n",
      "retweet_count        16224 non-null int64\n",
      "sidebar_color        16224 non-null object\n",
      "text                 16224 non-null object\n",
      "tweet_count          16224 non-null int64\n",
      "dtypes: bool(1), float64(1), int64(4), object(7)\n",
      "memory usage: 1.6+ MB\n"
     ]
    }
   ],
   "source": [
    "required_df.info()"
   ]
  },
  {
   "cell_type": "markdown",
   "metadata": {},
   "source": [
    "### Are there any duplicate entires in this dataset ?"
   ]
  },
  {
   "cell_type": "code",
   "execution_count": 327,
   "metadata": {},
   "outputs": [
    {
     "data": {
      "text/plain": [
       "0"
      ]
     },
     "execution_count": 327,
     "metadata": {},
     "output_type": "execute_result"
    }
   ],
   "source": [
    "required_df.duplicated().sum()"
   ]
  },
  {
   "cell_type": "markdown",
   "metadata": {},
   "source": [
    "### No."
   ]
  },
  {
   "cell_type": "markdown",
   "metadata": {},
   "source": [
    "### Removing entries whose gender is unknown"
   ]
  },
  {
   "cell_type": "code",
   "execution_count": 328,
   "metadata": {},
   "outputs": [],
   "source": [
    "required_df = required_df[required_df.gender != 'unknown']"
   ]
  },
  {
   "cell_type": "markdown",
   "metadata": {},
   "source": [
    "### Eliminating users that were not 100% confident about their gender. "
   ]
  },
  {
   "cell_type": "code",
   "execution_count": 329,
   "metadata": {},
   "outputs": [
    {
     "data": {
      "text/plain": [
       "(11773, 13)"
      ]
     },
     "execution_count": 329,
     "metadata": {},
     "output_type": "execute_result"
    }
   ],
   "source": [
    "required_df = required_df[required_df[\"gender:confidence\"] == 1]\n",
    "required_df.shape"
   ]
  },
  {
   "cell_type": "markdown",
   "metadata": {},
   "source": [
    "#### We no longer need gender:confidence "
   ]
  },
  {
   "cell_type": "code",
   "execution_count": 330,
   "metadata": {},
   "outputs": [],
   "source": [
    "required_df.drop(columns = ['gender:confidence'], inplace = True)"
   ]
  },
  {
   "cell_type": "markdown",
   "metadata": {},
   "source": [
    "### Typecasting description, text and name to String."
   ]
  },
  {
   "cell_type": "code",
   "execution_count": 331,
   "metadata": {},
   "outputs": [
    {
     "data": {
      "text/html": [
       "<div>\n",
       "<style scoped>\n",
       "    .dataframe tbody tr th:only-of-type {\n",
       "        vertical-align: middle;\n",
       "    }\n",
       "\n",
       "    .dataframe tbody tr th {\n",
       "        vertical-align: top;\n",
       "    }\n",
       "\n",
       "    .dataframe thead th {\n",
       "        text-align: right;\n",
       "    }\n",
       "</style>\n",
       "<table border=\"1\" class=\"dataframe\">\n",
       "  <thead>\n",
       "    <tr style=\"text-align: right;\">\n",
       "      <th></th>\n",
       "      <th>unit_id</th>\n",
       "      <th>golden</th>\n",
       "      <th>gender</th>\n",
       "      <th>created</th>\n",
       "      <th>description</th>\n",
       "      <th>fav_number</th>\n",
       "      <th>link_color</th>\n",
       "      <th>name</th>\n",
       "      <th>retweet_count</th>\n",
       "      <th>sidebar_color</th>\n",
       "      <th>text</th>\n",
       "      <th>tweet_count</th>\n",
       "    </tr>\n",
       "  </thead>\n",
       "  <tbody>\n",
       "    <tr>\n",
       "      <td>0</td>\n",
       "      <td>815719226</td>\n",
       "      <td>False</td>\n",
       "      <td>male</td>\n",
       "      <td>12/5/13 1:48</td>\n",
       "      <td>i sing my own rhythm.</td>\n",
       "      <td>0</td>\n",
       "      <td>08C2C2</td>\n",
       "      <td>sheezy0</td>\n",
       "      <td>0</td>\n",
       "      <td>FFFFFF</td>\n",
       "      <td>Robbie E Responds To Critics After Win Against...</td>\n",
       "      <td>110964</td>\n",
       "    </tr>\n",
       "    <tr>\n",
       "      <td>1</td>\n",
       "      <td>815719227</td>\n",
       "      <td>False</td>\n",
       "      <td>male</td>\n",
       "      <td>10/1/12 13:51</td>\n",
       "      <td>I'm the author of novels filled with family dr...</td>\n",
       "      <td>68</td>\n",
       "      <td>0084B4</td>\n",
       "      <td>DavdBurnett</td>\n",
       "      <td>0</td>\n",
       "      <td>C0DEED</td>\n",
       "      <td>‰ÛÏIt felt like they were my friends and I was...</td>\n",
       "      <td>7471</td>\n",
       "    </tr>\n",
       "    <tr>\n",
       "      <td>3</td>\n",
       "      <td>815719229</td>\n",
       "      <td>False</td>\n",
       "      <td>male</td>\n",
       "      <td>6/11/09 22:39</td>\n",
       "      <td>Mobile guy.  49ers, Shazam, Google, Kleiner Pe...</td>\n",
       "      <td>202</td>\n",
       "      <td>0084B4</td>\n",
       "      <td>douggarland</td>\n",
       "      <td>0</td>\n",
       "      <td>C0DEED</td>\n",
       "      <td>Hi @JordanSpieth - Looking at the url - do you...</td>\n",
       "      <td>1693</td>\n",
       "    </tr>\n",
       "    <tr>\n",
       "      <td>4</td>\n",
       "      <td>815719230</td>\n",
       "      <td>False</td>\n",
       "      <td>female</td>\n",
       "      <td>4/16/14 13:23</td>\n",
       "      <td>Ricky Wilson The Best FRONTMAN/Kaiser Chiefs T...</td>\n",
       "      <td>37318</td>\n",
       "      <td>3B94D9</td>\n",
       "      <td>WilfordGemma</td>\n",
       "      <td>0</td>\n",
       "      <td>0</td>\n",
       "      <td>Watching Neighbours on Sky+ catching up with t...</td>\n",
       "      <td>31462</td>\n",
       "    </tr>\n",
       "    <tr>\n",
       "      <td>5</td>\n",
       "      <td>815719231</td>\n",
       "      <td>False</td>\n",
       "      <td>female</td>\n",
       "      <td>3/11/10 18:14</td>\n",
       "      <td>you don't know me.</td>\n",
       "      <td>3901</td>\n",
       "      <td>F5ABB5</td>\n",
       "      <td>monroevicious</td>\n",
       "      <td>0</td>\n",
       "      <td>0</td>\n",
       "      <td>Ive seen people on the train with lamps, chair...</td>\n",
       "      <td>20036</td>\n",
       "    </tr>\n",
       "  </tbody>\n",
       "</table>\n",
       "</div>"
      ],
      "text/plain": [
       "     unit_id  golden  gender        created  \\\n",
       "0  815719226   False    male   12/5/13 1:48   \n",
       "1  815719227   False    male  10/1/12 13:51   \n",
       "3  815719229   False    male  6/11/09 22:39   \n",
       "4  815719230   False  female  4/16/14 13:23   \n",
       "5  815719231   False  female  3/11/10 18:14   \n",
       "\n",
       "                                         description  fav_number link_color  \\\n",
       "0                              i sing my own rhythm.           0     08C2C2   \n",
       "1  I'm the author of novels filled with family dr...          68     0084B4   \n",
       "3  Mobile guy.  49ers, Shazam, Google, Kleiner Pe...         202     0084B4   \n",
       "4  Ricky Wilson The Best FRONTMAN/Kaiser Chiefs T...       37318     3B94D9   \n",
       "5                                 you don't know me.        3901     F5ABB5   \n",
       "\n",
       "            name  retweet_count sidebar_color  \\\n",
       "0        sheezy0              0        FFFFFF   \n",
       "1    DavdBurnett              0        C0DEED   \n",
       "3    douggarland              0        C0DEED   \n",
       "4   WilfordGemma              0             0   \n",
       "5  monroevicious              0             0   \n",
       "\n",
       "                                                text  tweet_count  \n",
       "0  Robbie E Responds To Critics After Win Against...       110964  \n",
       "1  ‰ÛÏIt felt like they were my friends and I was...         7471  \n",
       "3  Hi @JordanSpieth - Looking at the url - do you...         1693  \n",
       "4  Watching Neighbours on Sky+ catching up with t...        31462  \n",
       "5  Ive seen people on the train with lamps, chair...        20036  "
      ]
     },
     "execution_count": 331,
     "metadata": {},
     "output_type": "execute_result"
    }
   ],
   "source": [
    "string_cols = ['description','text','name']\n",
    "\n",
    "for y in string_cols:\n",
    "    required_df[y] = required_df[y].astype(str)\n",
    "   \n",
    "    \n",
    "required_df.head()"
   ]
  },
  {
   "cell_type": "markdown",
   "metadata": {},
   "source": [
    "### Removing special characters, url tags, multiple spaces"
   ]
  },
  {
   "cell_type": "code",
   "execution_count": 332,
   "metadata": {},
   "outputs": [],
   "source": [
    "def cleaning(st):\n",
    "    st = st.lower()\n",
    "    st = re.sub('\\s\\W',' ',st)\n",
    "    st = re.sub('\\W\\s',' ',st)\n",
    "    st = re.sub(r'[^\\w]',' ', st)\n",
    "    st = re.sub(\"\\d+\",\"\", st)\n",
    "    st = re.sub('\\s+',' ',st)\n",
    "    st = re.sub('[!@#$_]','', st)\n",
    "    st = st.replace(\"co\",\"\")\n",
    "    st = st.replace(\"https\",\"\")\n",
    "    st = st.replace(\",\",\"\")\n",
    "    st = st.replace(\"[\\w*\",\" \")\n",
    "    return st\n",
    "\n",
    "required_df['text'] = [cleaning(content) for content in required_df['text']]\n",
    "required_df['description'] = [cleaning(content) for content in required_df['description']]\n",
    "required_df['name'] = [cleaning(content) for content in required_df['name']]"
   ]
  },
  {
   "cell_type": "markdown",
   "metadata": {},
   "source": [
    "### Removing Stopwords"
   ]
  },
  {
   "cell_type": "code",
   "execution_count": 333,
   "metadata": {},
   "outputs": [],
   "source": [
    "stop = stopwords.words('english')\n",
    "\n",
    "for y in ['description','text']:\n",
    "    required_df[y] = required_df[y].apply(lambda x: \" \".join(x for x in x.split() if x not in stop))"
   ]
  },
  {
   "cell_type": "markdown",
   "metadata": {},
   "source": [
    "### Lematization"
   ]
  },
  {
   "cell_type": "code",
   "execution_count": 334,
   "metadata": {},
   "outputs": [],
   "source": [
    "lm = WordNetLemmatizer()\n",
    "\n",
    "for y in ['description','text']:\n",
    "    required_df[y] = required_df[y].apply(lambda x: \" \".join([lm.lemmatize(word) for word in x.split()]))"
   ]
  },
  {
   "cell_type": "markdown",
   "metadata": {},
   "source": [
    "## Exploratory Data Analysis"
   ]
  },
  {
   "cell_type": "markdown",
   "metadata": {},
   "source": [
    "###  Q2.)Which day attracted new users the most ? "
   ]
  },
  {
   "cell_type": "code",
   "execution_count": 335,
   "metadata": {
    "scrolled": true
   },
   "outputs": [
    {
     "data": {
      "image/png": "[encoded data removed]",
      "text/plain": [
       "<Figure size 360x360 with 1 Axes>"
      ]
     },
     "metadata": {},
     "output_type": "display_data"
    }
   ],
   "source": [
    "# converting created to datetime \n",
    "required_df['created'] = pd.to_datetime(required_df['created'])\n",
    "\n",
    "# obtaining the weekday from created column\n",
    "required_df['weekday'] = required_df['created'].dt.day_name()\n",
    "\n",
    "# counting the number of accounts that were created on each day of the week\n",
    "accounts_day = required_df.groupby(\"weekday\")[\"unit_id\"].nunique()\n",
    "\n",
    "\n",
    "days = ['Monday', 'Tuesday', 'Wednesday', 'Thursday', 'Friday','Saturday','Sunday']\n",
    "new_users_per_day = []\n",
    "for x in days:\n",
    "    new_users_per_day.append(accounts_day[x])\n",
    "\n",
    "# creating a pie chart\n",
    "labels = days\n",
    "sizes = new_users_per_day\n",
    "explode =  (0, 0, 0, 0, 0, 0, 0.1) \n",
    "plt.figure(figsize=(5,5))\n",
    "plt.pie(sizes, labels = labels, autopct = '%1.1f%%', shadow = True,explode = explode)\n",
    "plt.suptitle('Percentage of new users by day of week', fontsize=20)\n",
    "plt.show()"
   ]
  },
  {
   "cell_type": "markdown",
   "metadata": {},
   "source": [
    "Least number of users were created on Saturdays while the platform seemed to welcome most users on Wednesday. "
   ]
  },
  {
   "cell_type": "markdown",
   "metadata": {},
   "source": [
    "###  Q3.) Twitter users with the highest tweet_ count and the highest re-tweet count?"
   ]
  },
  {
   "cell_type": "markdown",
   "metadata": {},
   "source": [
    "\n",
    "### Tweet with the highest re-tweet count"
   ]
  },
  {
   "cell_type": "code",
   "execution_count": 336,
   "metadata": {},
   "outputs": [
    {
     "data": {
      "text/html": [
       "<div>\n",
       "<style scoped>\n",
       "    .dataframe tbody tr th:only-of-type {\n",
       "        vertical-align: middle;\n",
       "    }\n",
       "\n",
       "    .dataframe tbody tr th {\n",
       "        vertical-align: top;\n",
       "    }\n",
       "\n",
       "    .dataframe thead th {\n",
       "        text-align: right;\n",
       "    }\n",
       "</style>\n",
       "<table border=\"1\" class=\"dataframe\">\n",
       "  <thead>\n",
       "    <tr style=\"text-align: right;\">\n",
       "      <th></th>\n",
       "      <th>unit_id</th>\n",
       "      <th>golden</th>\n",
       "      <th>gender</th>\n",
       "      <th>created</th>\n",
       "      <th>description</th>\n",
       "      <th>fav_number</th>\n",
       "      <th>link_color</th>\n",
       "      <th>name</th>\n",
       "      <th>retweet_count</th>\n",
       "      <th>sidebar_color</th>\n",
       "      <th>text</th>\n",
       "      <th>tweet_count</th>\n",
       "      <th>weekday</th>\n",
       "    </tr>\n",
       "  </thead>\n",
       "  <tbody>\n",
       "    <tr>\n",
       "      <td>8810</td>\n",
       "      <td>815728145</td>\n",
       "      <td>False</td>\n",
       "      <td>male</td>\n",
       "      <td>2009-10-12 05:03:00</td>\n",
       "      <td>part time rapper full time vlogger kale king p...</td>\n",
       "      <td>13740</td>\n",
       "      <td>9999</td>\n",
       "      <td>marcusbutler</td>\n",
       "      <td>153</td>\n",
       "      <td>FFFFFF</td>\n",
       "      <td>lady gentleman meet new prime minister joke to...</td>\n",
       "      <td>14085</td>\n",
       "      <td>Monday</td>\n",
       "    </tr>\n",
       "  </tbody>\n",
       "</table>\n",
       "</div>"
      ],
      "text/plain": [
       "        unit_id  golden gender             created  \\\n",
       "8810  815728145   False   male 2009-10-12 05:03:00   \n",
       "\n",
       "                                            description  fav_number  \\\n",
       "8810  part time rapper full time vlogger kale king p...       13740   \n",
       "\n",
       "     link_color          name  retweet_count sidebar_color  \\\n",
       "8810       9999  marcusbutler            153        FFFFFF   \n",
       "\n",
       "                                                   text  tweet_count weekday  \n",
       "8810  lady gentleman meet new prime minister joke to...        14085  Monday  "
      ]
     },
     "execution_count": 336,
     "metadata": {},
     "output_type": "execute_result"
    }
   ],
   "source": [
    "y = required_df['retweet_count'].max()\n",
    "\n",
    "highest_retweet = required_df[required_df['retweet_count'] == y]\n",
    "highest_retweet"
   ]
  },
  {
   "cell_type": "markdown",
   "metadata": {},
   "source": [
    "#### A:- The user with the highest re-tweet count was \"MarcusButler\", a male candidate with a score of 153. \t "
   ]
  },
  {
   "cell_type": "markdown",
   "metadata": {},
   "source": [
    "### Tweet with the highest tweet_count"
   ]
  },
  {
   "cell_type": "code",
   "execution_count": 337,
   "metadata": {},
   "outputs": [
    {
     "data": {
      "text/html": [
       "<div>\n",
       "<style scoped>\n",
       "    .dataframe tbody tr th:only-of-type {\n",
       "        vertical-align: middle;\n",
       "    }\n",
       "\n",
       "    .dataframe tbody tr th {\n",
       "        vertical-align: top;\n",
       "    }\n",
       "\n",
       "    .dataframe thead th {\n",
       "        text-align: right;\n",
       "    }\n",
       "</style>\n",
       "<table border=\"1\" class=\"dataframe\">\n",
       "  <thead>\n",
       "    <tr style=\"text-align: right;\">\n",
       "      <th></th>\n",
       "      <th>unit_id</th>\n",
       "      <th>golden</th>\n",
       "      <th>gender</th>\n",
       "      <th>created</th>\n",
       "      <th>description</th>\n",
       "      <th>fav_number</th>\n",
       "      <th>link_color</th>\n",
       "      <th>name</th>\n",
       "      <th>retweet_count</th>\n",
       "      <th>sidebar_color</th>\n",
       "      <th>text</th>\n",
       "      <th>tweet_count</th>\n",
       "      <th>weekday</th>\n",
       "    </tr>\n",
       "  </thead>\n",
       "  <tbody>\n",
       "    <tr>\n",
       "      <td>15940</td>\n",
       "      <td>815735441</td>\n",
       "      <td>False</td>\n",
       "      <td>male</td>\n",
       "      <td>2012-02-21 18:17:00</td>\n",
       "      <td>nfira ultima notìcias que estìá antecendo bras...</td>\n",
       "      <td>81372</td>\n",
       "      <td>FFCC4D</td>\n",
       "      <td>gabrieldsmqs</td>\n",
       "      <td>0</td>\n",
       "      <td>0</td>\n",
       "      <td>one state ûªs struggle make end meet illinois ...</td>\n",
       "      <td>2680199</td>\n",
       "      <td>Tuesday</td>\n",
       "    </tr>\n",
       "  </tbody>\n",
       "</table>\n",
       "</div>"
      ],
      "text/plain": [
       "         unit_id  golden gender             created  \\\n",
       "15940  815735441   False   male 2012-02-21 18:17:00   \n",
       "\n",
       "                                             description  fav_number  \\\n",
       "15940  nfira ultima notìcias que estìá antecendo bras...       81372   \n",
       "\n",
       "      link_color          name  retweet_count sidebar_color  \\\n",
       "15940     FFCC4D  gabrieldsmqs              0             0   \n",
       "\n",
       "                                                    text  tweet_count  weekday  \n",
       "15940  one state ûªs struggle make end meet illinois ...      2680199  Tuesday  "
      ]
     },
     "execution_count": 337,
     "metadata": {},
     "output_type": "execute_result"
    }
   ],
   "source": [
    "x = required_df['tweet_count'].max()\n",
    "\n",
    "highest_tweet = required_df[required_df['tweet_count'] == x]\n",
    "highest_tweet"
   ]
  },
  {
   "cell_type": "markdown",
   "metadata": {},
   "source": [
    "#### A:- The user with the highest tweet count was \"Mr. Gabriel dsmqs\", a male candidate with a score of 2680199. "
   ]
  },
  {
   "cell_type": "markdown",
   "metadata": {},
   "source": [
    "### Number of users that were considered in the golden standard "
   ]
  },
  {
   "cell_type": "code",
   "execution_count": 338,
   "metadata": {},
   "outputs": [
    {
     "data": {
      "text/plain": [
       "27"
      ]
     },
     "execution_count": 338,
     "metadata": {},
     "output_type": "execute_result"
    }
   ],
   "source": [
    "no_of_golden = required_df[required_df['golden'] == True]\n",
    "len(no_of_golden)"
   ]
  },
  {
   "cell_type": "markdown",
   "metadata": {},
   "source": [
    "<p> Only 27 users were considered in the golden standard for the model. Since this is a small number, it will be not be considered in our training models later. This column will be dropped later as well. </p>\n",
    "\n",
    "Let's see if there's gender bias here or not"
   ]
  },
  {
   "cell_type": "code",
   "execution_count": 339,
   "metadata": {},
   "outputs": [
    {
     "data": {
      "image/png": "[encoded data removed]",
      "text/plain": [
       "<Figure size 360x360 with 1 Axes>"
      ]
     },
     "metadata": {},
     "output_type": "display_data"
    },
    {
     "data": {
      "text/plain": [
       "2"
      ]
     },
     "execution_count": 339,
     "metadata": {},
     "output_type": "execute_result"
    }
   ],
   "source": [
    "# no. of males\n",
    "male_golden = no_of_golden[no_of_golden['gender'] == 'male']\n",
    "m = len(male_golden)\n",
    "\n",
    "# no. of females\n",
    "female_golden = no_of_golden[no_of_golden['gender'] == 'female']\n",
    "n = len(female_golden)\n",
    "\n",
    "# no. of brands\n",
    "brand_count = len(no_of_golden) - m - n\n",
    "\n",
    "#creating a pie chart\n",
    "genders = ['Male','Female','Brand']\n",
    "labels = genders\n",
    "sizes = [m, n,brand_count]\n",
    "explode = (0,0.1,0)\n",
    "plt.figure(figsize=(5,5))\n",
    "plt.pie(sizes, labels=labels, autopct='%1.1f%%', shadow=True,explode = explode)\n",
    "plt.suptitle('Percentage of Golden Users in different categories', fontsize=20)\n",
    "plt.show()\n",
    "m - n"
   ]
  },
  {
   "cell_type": "markdown",
   "metadata": {},
   "source": [
    "The number of Male-Golden-Users exceeds that of female users by 2."
   ]
  },
  {
   "cell_type": "code",
   "execution_count": 340,
   "metadata": {},
   "outputs": [],
   "source": [
    "#dropping golden column\n",
    "required_df = required_df.drop('golden', axis = 1)"
   ]
  },
  {
   "cell_type": "markdown",
   "metadata": {},
   "source": [
    "### Bar plot for  Gender Column"
   ]
  },
  {
   "cell_type": "code",
   "execution_count": 341,
   "metadata": {},
   "outputs": [
    {
     "data": {
      "text/plain": [
       "<matplotlib.axes._subplots.AxesSubplot at 0x13982f877c8>"
      ]
     },
     "execution_count": 341,
     "metadata": {},
     "output_type": "execute_result"
    },
    {
     "data": {
      "image/png": "[encoded data removed]",
      "text/plain": [
       "<Figure size 864x648 with 1 Axes>"
      ]
     },
     "metadata": {},
     "output_type": "display_data"
    }
   ],
   "source": [
    "required_df['gender'].value_counts().plot(kind='bar')"
   ]
  },
  {
   "cell_type": "code",
   "execution_count": 342,
   "metadata": {},
   "outputs": [],
   "source": [
    "# helper function to display a cloud plot\n",
    "def cloud_plot(wordcloud,title):\n",
    "    fig = plt.figure(1, figsize=(20,15))\n",
    "    plt.imshow(wordcloud)\n",
    "    plt.axis('off')\n",
    "    plt.title(title, fontsize = 30)\n",
    "    plt.show()"
   ]
  },
  {
   "cell_type": "code",
   "execution_count": 343,
   "metadata": {},
   "outputs": [
    {
     "data": {
      "image/png": "[encoded data removed]",
      "text/plain": [
       "<Figure size 1440x1080 with 1 Axes>"
      ]
     },
     "metadata": {},
     "output_type": "display_data"
    }
   ],
   "source": [
    "# cloud plot for user names\n",
    "desc_wordcloud = WordCloud(background_color = 'white' ,stopwords=set(STOPWORDS), max_words=150, max_font_size=40, random_state=1300).generate(' '.join(required_df['name']))\n",
    "cloud_plot(desc_wordcloud,'User WordCloud')"
   ]
  },
  {
   "cell_type": "markdown",
   "metadata": {},
   "source": [
    "### Q1.)Most common words used by males and females in their tweets?"
   ]
  },
  {
   "cell_type": "code",
   "execution_count": 344,
   "metadata": {},
   "outputs": [
    {
     "data": {
      "image/png": "[encoded data removed]",
      "text/plain": [
       "<Figure size 864x648 with 1 Axes>"
      ]
     },
     "metadata": {},
     "output_type": "display_data"
    }
   ],
   "source": [
    "# tokenizing male tweets\n",
    "male_tweets = required_df[required_df['gender'] == 'male']\n",
    "tokenized_mt = nltk.word_tokenize(' '.join(male_tweets['text']))\n",
    "\n",
    "# tokenizing female tweets\n",
    "female_tweets = required_df[required_df['gender'] == 'female']\n",
    "tokenized_ft = nltk.word_tokenize(' '.join(female_tweets['text']))\n",
    "\n",
    "# list of common words\n",
    "common_words = list(set(tokenized_ft).intersection(set(tokenized_mt)))\n",
    "\n",
    "# tokenizing all the tweets\n",
    "all_tweets = required_df['text']\n",
    "tokenized_tweets = nltk.word_tokenize(' '.join(all_tweets))\n",
    "\n",
    "# creating a dataframe that shows the number of times each word has occurred \n",
    "count_words = FreqDist(tokenized_tweets)\n",
    "counts_df = pd.DataFrame(count_words.items(), columns=['Word', 'Count'])\n",
    "\n",
    "# slicing counts_df for common_words and sorting it in descending order\n",
    "common_words_with_freq = counts_df[counts_df['Word'].isin(common_words)].sort_values(by = ['Count'], ascending = False)\n",
    "\n",
    "# slicing the top 20 words\n",
    "top_twenty_common = common_words_with_freq[:20]\n",
    "\n",
    "# boxplot to depict \n",
    "ax = sns.barplot(x=\"Word\", y=\"Count\", data= top_twenty_common)"
   ]
  },
  {
   "cell_type": "markdown",
   "metadata": {},
   "source": [
    "#### A:- Most common words used by male and female are: {get,like,one,day,time,u,love,new,go,amp,people,make,know,best,see,got,year,good}"
   ]
  },
  {
   "cell_type": "code",
   "execution_count": 345,
   "metadata": {},
   "outputs": [
    {
     "data": {
      "text/plain": [
       "4259"
      ]
     },
     "execution_count": 345,
     "metadata": {},
     "output_type": "execute_result"
    }
   ],
   "source": [
    "len(common_words)"
   ]
  },
  {
   "cell_type": "markdown",
   "metadata": {},
   "source": [
    "## Feature Engineering "
   ]
  },
  {
   "cell_type": "code",
   "execution_count": 346,
   "metadata": {},
   "outputs": [
    {
     "data": {
      "text/plain": [
       "20000"
      ]
     },
     "execution_count": 346,
     "metadata": {},
     "output_type": "execute_result"
    }
   ],
   "source": [
    "cv1 = TfidfVectorizer(max_features = 20000)\n",
    "X_text = cv1.fit_transform(required_df['text'])\n",
    "words = cv1.get_feature_names()\n",
    "len(words)"
   ]
  },
  {
   "cell_type": "code",
   "execution_count": 347,
   "metadata": {},
   "outputs": [
    {
     "data": {
      "text/plain": [
       "20000"
      ]
     },
     "execution_count": 347,
     "metadata": {},
     "output_type": "execute_result"
    }
   ],
   "source": [
    "cv2 = TfidfVectorizer(max_features = 20000)\n",
    "X_description = cv2.fit_transform(required_df['description'])\n",
    "words2 = cv2.get_feature_names()\n",
    "len(words2)"
   ]
  },
  {
   "cell_type": "markdown",
   "metadata": {},
   "source": [
    "# Ensemble Machine Learning Modelling "
   ]
  },
  {
   "cell_type": "markdown",
   "metadata": {},
   "source": [
    "## Label Encoding"
   ]
  },
  {
   "cell_type": "code",
   "execution_count": 348,
   "metadata": {},
   "outputs": [
    {
     "name": "stdout",
     "output_type": "stream",
     "text": [
      "{'brand': 0, 'female': 1, 'male': 2}\n"
     ]
    }
   ],
   "source": [
    "encoder = LabelEncoder()\n",
    "y = encoder.fit_transform(required_df['gender'])\n",
    "name_mapping = dict(zip(encoder.classes_, encoder.transform(encoder.classes_)))\n",
    "print(name_mapping)"
   ]
  },
  {
   "cell_type": "markdown",
   "metadata": {},
   "source": [
    "## Consider text :"
   ]
  },
  {
   "cell_type": "code",
   "execution_count": 349,
   "metadata": {},
   "outputs": [
    {
     "name": "stdout",
     "output_type": "stream",
     "text": [
      "Train set: (8829, 20000) (8829,)\n",
      "Test set: (2944, 20000) (2944,)\n"
     ]
    }
   ],
   "source": [
    "X = X_text\n",
    "X_train, X_test, Y_train, Y_test = train_test_split(X,y,random_state=42, stratify = y)\n",
    "print ('Train set:', X_train.shape, Y_train.shape)\n",
    "print ('Test set:', X_test.shape, Y_test.shape)"
   ]
  },
  {
   "cell_type": "markdown",
   "metadata": {},
   "source": [
    "### 1) Naive Bayes Classifiaction Algorithm"
   ]
  },
  {
   "cell_type": "code",
   "execution_count": 350,
   "metadata": {},
   "outputs": [],
   "source": [
    "nb = MultinomialNB()\n",
    "nb.fit(X_train, Y_train)\n",
    "nb_pred = nb.predict(X_test)"
   ]
  },
  {
   "cell_type": "markdown",
   "metadata": {},
   "source": [
    "### 2) Logistic Regression Algorithm"
   ]
  },
  {
   "cell_type": "code",
   "execution_count": 351,
   "metadata": {},
   "outputs": [
    {
     "name": "stderr",
     "output_type": "stream",
     "text": [
      "C:\\Users\\HP\\Anaconda3\\lib\\site-packages\\sklearn\\linear_model\\logistic.py:432: FutureWarning: Default solver will be changed to 'lbfgs' in 0.22. Specify a solver to silence this warning.\n",
      "  FutureWarning)\n",
      "C:\\Users\\HP\\Anaconda3\\lib\\site-packages\\sklearn\\linear_model\\logistic.py:469: FutureWarning: Default multi_class will be changed to 'auto' in 0.22. Specify the multi_class option to silence this warning.\n",
      "  \"this warning.\", FutureWarning)\n"
     ]
    }
   ],
   "source": [
    "logReg = LogisticRegression()\n",
    "logReg.fit(X_train, Y_train)\n",
    "logreg_pred = logReg.predict(X_test)"
   ]
  },
  {
   "cell_type": "markdown",
   "metadata": {},
   "source": [
    "### 3) Random Forest Classifier"
   ]
  },
  {
   "cell_type": "code",
   "execution_count": 352,
   "metadata": {},
   "outputs": [],
   "source": [
    "rf = RandomForestClassifier(n_estimators=20)\n",
    "rf.fit(X_train,Y_train)\n",
    "rf_pred = rf.predict(X_test)"
   ]
  },
  {
   "cell_type": "markdown",
   "metadata": {},
   "source": [
    "## Consider description :"
   ]
  },
  {
   "cell_type": "markdown",
   "metadata": {},
   "source": [
    "## Train / Test /Split"
   ]
  },
  {
   "cell_type": "code",
   "execution_count": 353,
   "metadata": {},
   "outputs": [
    {
     "name": "stdout",
     "output_type": "stream",
     "text": [
      "Train set: (8829, 20000) (8829,)\n",
      "Test set: (2944, 20000) (2944,)\n"
     ]
    }
   ],
   "source": [
    "X = X_description\n",
    "X_train_d, X_test_d, Y_train_d, Y_test_d = train_test_split(X,y,random_state=42, stratify = y)\n",
    "print ('Train set:', X_train_d.shape, Y_train_d.shape)\n",
    "print ('Test set:', X_test_d.shape, Y_test_d.shape)"
   ]
  },
  {
   "cell_type": "markdown",
   "metadata": {},
   "source": [
    "### 1) Naive Bayes Classifiaction Algorithm"
   ]
  },
  {
   "cell_type": "code",
   "execution_count": 354,
   "metadata": {},
   "outputs": [],
   "source": [
    "nb = MultinomialNB()\n",
    "nb.fit(X_train_d, Y_train_d)\n",
    "nb_pred_d = nb.predict(X_test_d)"
   ]
  },
  {
   "cell_type": "markdown",
   "metadata": {},
   "source": [
    "### 2) Logistic Regression Algorithm"
   ]
  },
  {
   "cell_type": "code",
   "execution_count": 355,
   "metadata": {},
   "outputs": [
    {
     "name": "stderr",
     "output_type": "stream",
     "text": [
      "C:\\Users\\HP\\Anaconda3\\lib\\site-packages\\sklearn\\linear_model\\logistic.py:432: FutureWarning: Default solver will be changed to 'lbfgs' in 0.22. Specify a solver to silence this warning.\n",
      "  FutureWarning)\n",
      "C:\\Users\\HP\\Anaconda3\\lib\\site-packages\\sklearn\\linear_model\\logistic.py:469: FutureWarning: Default multi_class will be changed to 'auto' in 0.22. Specify the multi_class option to silence this warning.\n",
      "  \"this warning.\", FutureWarning)\n"
     ]
    }
   ],
   "source": [
    "logReg = LogisticRegression()\n",
    "logReg.fit(X_train_d, Y_train_d)\n",
    "logreg_pred_d = logReg.predict(X_test_d)"
   ]
  },
  {
   "cell_type": "markdown",
   "metadata": {},
   "source": [
    "### 3) Random Forest Classifier"
   ]
  },
  {
   "cell_type": "code",
   "execution_count": 356,
   "metadata": {},
   "outputs": [],
   "source": [
    "rf = RandomForestClassifier(n_estimators=20)\n",
    "rf.fit(X_train_d,Y_train_d)\n",
    "rf_pred_d = rf.predict(X_test_d)"
   ]
  },
  {
   "cell_type": "markdown",
   "metadata": {},
   "source": [
    "## Comparing the differenet classifiers used and the features to predict gender"
   ]
  },
  {
   "cell_type": "markdown",
   "metadata": {},
   "source": [
    "### With text :-"
   ]
  },
  {
   "cell_type": "code",
   "execution_count": 358,
   "metadata": {},
   "outputs": [
    {
     "name": "stdout",
     "output_type": "stream",
     "text": [
      "Logistic Regression accuracy score:  0.5244565217391305\n",
      "              precision    recall  f1-score   support\n",
      "\n",
      "           0       0.63      0.47      0.53       752\n",
      "           1       0.53      0.64      0.58      1154\n",
      "           2       0.46      0.44      0.45      1038\n",
      "\n",
      "    accuracy                           0.52      2944\n",
      "   macro avg       0.54      0.51      0.52      2944\n",
      "weighted avg       0.53      0.52      0.52      2944\n",
      "\n"
     ]
    }
   ],
   "source": [
    "\n",
    "logreg_accuracyscore = accuracy_score(logreg_pred, Y_test)\n",
    "print(\"Logistic Regression accuracy score: \",logreg_accuracyscore)\n",
    "print(classification_report(Y_test,logreg_pred))"
   ]
  },
  {
   "cell_type": "markdown",
   "metadata": {},
   "source": [
    "#### Accuracy= 0.5190217391304348 = 51.90%"
   ]
  },
  {
   "cell_type": "code",
   "execution_count": 357,
   "metadata": {},
   "outputs": [
    {
     "name": "stdout",
     "output_type": "stream",
     "text": [
      "Naive Bayes Algo accuracy score:  0.5190217391304348\n",
      "              precision    recall  f1-score   support\n",
      "\n",
      "           0       0.76      0.32      0.45       752\n",
      "           1       0.50      0.79      0.61      1154\n",
      "           2       0.47      0.36      0.41      1038\n",
      "\n",
      "    accuracy                           0.52      2944\n",
      "   macro avg       0.57      0.49      0.49      2944\n",
      "weighted avg       0.55      0.52      0.50      2944\n",
      "\n"
     ]
    }
   ],
   "source": [
    "nb_accuracyscore = accuracy_score(nb_pred, Y_test)\n",
    "print(\"Naive Bayes Algo accuracy score: \",nb_accuracyscore,)\n",
    "print(classification_report(Y_test,nb_pred))"
   ]
  },
  {
   "cell_type": "markdown",
   "metadata": {},
   "source": [
    "#### Accuracy= 0.5244565217391305 = 52.44%"
   ]
  },
  {
   "cell_type": "code",
   "execution_count": 359,
   "metadata": {},
   "outputs": [
    {
     "name": "stdout",
     "output_type": "stream",
     "text": [
      "Random Forest accuracy score:  0.49014945652173914\n",
      "              precision    recall  f1-score   support\n",
      "\n",
      "           0       0.59      0.42      0.49       752\n",
      "           1       0.50      0.58      0.53      1154\n",
      "           2       0.43      0.44      0.44      1038\n",
      "\n",
      "    accuracy                           0.49      2944\n",
      "   macro avg       0.51      0.48      0.49      2944\n",
      "weighted avg       0.50      0.49      0.49      2944\n",
      "\n"
     ]
    }
   ],
   "source": [
    "\n",
    "rf_accuracyscore = accuracy_score(rf_pred, Y_test)\n",
    "print(\"Random Forest accuracy score: \",rf_accuracyscore)\n",
    "print(classification_report(Y_test,rf_pred))"
   ]
  },
  {
   "cell_type": "markdown",
   "metadata": {},
   "source": [
    "#### Accuracy= 0.49014945652173914 = 49.01%"
   ]
  },
  {
   "cell_type": "markdown",
   "metadata": {},
   "source": [
    "### With description :-"
   ]
  },
  {
   "cell_type": "code",
   "execution_count": 360,
   "metadata": {},
   "outputs": [
    {
     "name": "stdout",
     "output_type": "stream",
     "text": [
      "Naive Bayes Algo accuracy score:  0.6708559782608695\n",
      "              precision    recall  f1-score   support\n",
      "\n",
      "           0       0.86      0.72      0.78       752\n",
      "           1       0.61      0.78      0.69      1154\n",
      "           2       0.63      0.52      0.57      1038\n",
      "\n",
      "    accuracy                           0.67      2944\n",
      "   macro avg       0.70      0.67      0.68      2944\n",
      "weighted avg       0.68      0.67      0.67      2944\n",
      "\n"
     ]
    }
   ],
   "source": [
    "nb_accuracyscore = accuracy_score(nb_pred_d, Y_test_d)\n",
    "print(\"Naive Bayes Algo accuracy score: \",nb_accuracyscore)\n",
    "print(classification_report(Y_test_d,nb_pred_d))"
   ]
  },
  {
   "cell_type": "markdown",
   "metadata": {},
   "source": [
    "#### Accuracy = 0.6708559782608695 = 67.085%"
   ]
  },
  {
   "cell_type": "code",
   "execution_count": 361,
   "metadata": {},
   "outputs": [
    {
     "name": "stdout",
     "output_type": "stream",
     "text": [
      "Logistic Regression accuracy score:  0.6531929347826086\n",
      "              precision    recall  f1-score   support\n",
      "\n",
      "           0       0.82      0.68      0.74       752\n",
      "           1       0.60      0.78      0.67      1154\n",
      "           2       0.63      0.50      0.55      1038\n",
      "\n",
      "    accuracy                           0.65      2944\n",
      "   macro avg       0.68      0.65      0.66      2944\n",
      "weighted avg       0.67      0.65      0.65      2944\n",
      "\n"
     ]
    }
   ],
   "source": [
    "\n",
    "logreg_accuracyscore = accuracy_score(logreg_pred_d, Y_test_d)\n",
    "print(\"Logistic Regression accuracy score: \",logreg_accuracyscore)\n",
    "print(classification_report(Y_test_d,logreg_pred_d))"
   ]
  },
  {
   "cell_type": "markdown",
   "metadata": {},
   "source": [
    "#### Accuracy= 0.6531929347826086 = 65.319%"
   ]
  },
  {
   "cell_type": "code",
   "execution_count": 362,
   "metadata": {},
   "outputs": [
    {
     "name": "stdout",
     "output_type": "stream",
     "text": [
      "Random Forest accuracy score:  0.6304347826086957\n",
      "              precision    recall  f1-score   support\n",
      "\n",
      "           0       0.78      0.72      0.75       752\n",
      "           1       0.57      0.78      0.66      1154\n",
      "           2       0.62      0.40      0.49      1038\n",
      "\n",
      "    accuracy                           0.63      2944\n",
      "   macro avg       0.66      0.63      0.63      2944\n",
      "weighted avg       0.64      0.63      0.62      2944\n",
      "\n"
     ]
    }
   ],
   "source": [
    "\n",
    "rf_accuracyscore = accuracy_score(rf_pred_d, Y_test_d)\n",
    "print(\"Random Forest accuracy score: \",rf_accuracyscore)\n",
    "print(classification_report(Y_test_d,rf_pred_d))"
   ]
  },
  {
   "cell_type": "markdown",
   "metadata": {},
   "source": [
    "#### Accuracy= 0.6304347826086957 = 63.043%"
   ]
  }
 ],
 "metadata": {
  "kernelspec": {
   "display_name": "Python 3",
   "language": "python",
   "name": "python3"
  },
  "language_info": {
   "codemirror_mode": {
    "name": "ipython",
    "version": 3
   },
   "file_extension": ".py",
   "mimetype": "text/x-python",
   "name": "python",
   "nbconvert_exporter": "python",
   "pygments_lexer": "ipython3",
   "version": "3.7.4"
  }
 },
 "nbformat": 4,
 "nbformat_minor": 4
}
